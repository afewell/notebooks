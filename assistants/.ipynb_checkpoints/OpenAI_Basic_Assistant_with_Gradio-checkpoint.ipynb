{
 "cells": [
  {
   "cell_type": "code",
   "execution_count": null,
   "id": "008435d7-25f3-4fff-9414-fc6d26e52cf4",
   "metadata": {},
   "outputs": [],
   "source": [
    "!pip install openai gradio AzureOpenAI"
   ]
  },
  {
   "cell_type": "code",
   "execution_count": null,
   "id": "cee54021-515d-431b-9847-6fc5fa94ff75",
   "metadata": {},
   "outputs": [],
   "source": [
    " import os\n",
    "from getpass import getpass\n",
    "\n",
    "# Securely input the API key\n",
    "api_key = getpass(\"Enter your OpenAI API key: \")\n",
    "\n",
    "# Set the OPENAI_API_KEY environment variable\n",
    "os.environ['OPENAI_API_KEY'] = api_key"
   ]
  },
  {
   "cell_type": "code",
   "execution_count": null,
   "id": "e8ad3eb7-3166-4f13-b14d-e5f49c2a1b31",
   "metadata": {},
   "outputs": [],
   "source": [
    "# Initialize the client\n",
    "import openai\n",
    "import time\n",
    "import gradio as gr\n",
    "\n",
    "# Assuming OpenAI Python client is correctly initialized with the API key\n",
    "client = openai.OpenAI()"
   ]
  },
  {
   "cell_type": "code",
   "execution_count": null,
   "id": "28017f99-e382-4aad-9a99-5910e297f6e5",
   "metadata": {},
   "outputs": [],
   "source": [
    "from openai import OpenAI\n",
    "import os\n",
    "\n",
    "# Function to check if the assistant already exists and return its ID\n",
    "def get_existing_assistant_id(file_path):\n",
    "    if os.path.exists(file_path):\n",
    "        with open(file_path, 'r') as file:\n",
    "            assistant_id = file.read().strip()\n",
    "            return assistant_id\n",
    "    return None\n",
    "\n",
    "# Function to save the assistant ID to a file\n",
    "def save_assistant_id(file_path, assistant_id):\n",
    "    with open(file_path, 'w') as file:\n",
    "        file.write(assistant_id)\n",
    "\n",
    "# Path to the file where the assistant ID will be stored\n",
    "assistant_id_file = 'assistant_id.txt'\n",
    "\n",
    "# Check if the assistant already exists\n",
    "existing_assistant_id = get_existing_assistant_id(assistant_id_file)\n",
    "\n",
    "if existing_assistant_id:\n",
    "    # If the assistant exists, retrieve it\n",
    "    assistant = client.beta.assistants.retrieve(existing_assistant_id)\n",
    "else:\n",
    "    # If the assistant does not exist, create it\n",
    "    assistant = client.beta.assistants.create(\n",
    "        instructions=\"You are a personal math tutor. When asked a question, write and run Python code to answer the question.\",\n",
    "        name=\"Math Tutor\",\n",
    "        tools=[{\"type\": \"code_interpreter\"}],\n",
    "        model=\"gpt-4-turbo-preview\",\n",
    "    )\n",
    "    # Save the new assistant ID for future reference\n",
    "    save_assistant_id(assistant_id_file, assistant.id)"
   ]
  },
  {
   "cell_type": "code",
   "execution_count": null,
   "id": "c7b5f77e-43a6-49ba-b84e-cbe4d402a65e",
   "metadata": {},
   "outputs": [],
   "source": [
    "# Function to handle the Gradio interface interaction\n",
    "def handle_query(query):\n",
    "    # Step 2: Create a Thread (Consider creating a new thread for each unique user/session)\n",
    "    thread = client.beta.threads.create()\n",
    "\n",
    "    # Step 3: Add a Message to the Thread\n",
    "    message = client.beta.threads.messages.create(\n",
    "        thread_id=thread.id,\n",
    "        role=\"user\",\n",
    "        content=query\n",
    "    )\n",
    "\n",
    "    # Step 4: Run the Assistant\n",
    "    run = client.beta.threads.runs.create(\n",
    "        thread_id=thread.id,\n",
    "        assistant_id=assistant.id,\n",
    "        instructions=\"Please introduce yourself to the user.\"\n",
    "    )\n",
    "    \n",
    "    while True:\n",
    "    \n",
    "        # Step 5: Check the Run status (with a simple wait and check approach for demonstration)\n",
    "        time.sleep(5)  # Wait for a few seconds for the run to potentially complete\n",
    "        run_status = client.beta.threads.runs.retrieve(\n",
    "            thread_id=thread.id,\n",
    "            run_id=run.id\n",
    "        )\n",
    "    \n",
    "        if run_status.status == 'completed':\n",
    "            messages = client.beta.threads.messages.list(\n",
    "                thread_id=thread.id\n",
    "            ) \n",
    "            # Format the response for display\n",
    "            response = \"\"\n",
    "            for msg in messages.data:\n",
    "                role = msg.role\n",
    "                content = msg.content[0].text.value\n",
    "                response += f\"{role.capitalize()}: {content}\\n\\n\"\n",
    "            return response+\"\\n\\n\"\n",
    "        else:\n",
    "            continue"
   ]
  },
  {
   "cell_type": "code",
   "execution_count": null,
   "id": "af7bf754-4be0-4930-8159-ce2ee5771737",
   "metadata": {},
   "outputs": [],
   "source": [
    "# Create a Gradio Interface\n",
    "iface = gr.Interface(fn=handle_query, inputs=\"textbox\", outputs=\"textbox\", title=\"Math Tutor\")\n",
    "\n",
    "# Launch the Gradio app\n",
    "iface.launch(share=True)"
   ]
  },
  {
   "cell_type": "code",
   "execution_count": null,
   "id": "394ce26e-5baf-4a89-94b2-cfc8cd28cc59",
   "metadata": {},
   "outputs": [],
   "source": []
  }
 ],
 "metadata": {
  "kernelspec": {
   "display_name": "Python 3 (ipykernel)",
   "language": "python",
   "name": "python3"
  },
  "language_info": {
   "codemirror_mode": {
    "name": "ipython",
    "version": 3
   },
   "file_extension": ".py",
   "mimetype": "text/x-python",
   "name": "python",
   "nbconvert_exporter": "python",
   "pygments_lexer": "ipython3",
   "version": "3.10.12"
  }
 },
 "nbformat": 4,
 "nbformat_minor": 5
}
